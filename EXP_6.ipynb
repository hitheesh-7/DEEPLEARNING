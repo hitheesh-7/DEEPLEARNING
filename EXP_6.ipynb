{
  "nbformat": 4,
  "nbformat_minor": 0,
  "metadata": {
    "colab": {
      "provenance": [],
      "authorship_tag": "ABX9TyPn/ArMXw2Rrnbt43SUg/Qq",
      "include_colab_link": true
    },
    "kernelspec": {
      "name": "python3",
      "display_name": "Python 3"
    },
    "language_info": {
      "name": "python"
    }
  },
  "cells": [
    {
      "cell_type": "markdown",
      "metadata": {
        "id": "view-in-github",
        "colab_type": "text"
      },
      "source": [
        "<a href=\"https://colab.research.google.com/github/hitheesh-7/DEEPLEARNING/blob/main/EXP_6.ipynb\" target=\"_parent\"><img src=\"https://colab.research.google.com/assets/colab-badge.svg\" alt=\"Open In Colab\"/></a>"
      ]
    },
    {
      "cell_type": "code",
      "execution_count": 1,
      "metadata": {
        "colab": {
          "base_uri": "https://localhost:8080/"
        },
        "id": "wY1uJR_0l-Nw",
        "outputId": "faa4b38c-26e5-4d27-8edf-2869d97890f5"
      },
      "outputs": [
        {
          "output_type": "stream",
          "name": "stdout",
          "text": [
            "Epoch 1/10\n",
            "4/4 [==============================] - 4s 22ms/step - loss: 1.5834\n",
            "Epoch 2/10\n",
            "4/4 [==============================] - 0s 13ms/step - loss: 1.4181\n",
            "Epoch 3/10\n",
            "4/4 [==============================] - 0s 11ms/step - loss: 1.3021\n",
            "Epoch 4/10\n",
            "4/4 [==============================] - 0s 11ms/step - loss: 1.2370\n",
            "Epoch 5/10\n",
            "4/4 [==============================] - 0s 27ms/step - loss: 1.1766\n",
            "Epoch 6/10\n",
            "4/4 [==============================] - 0s 11ms/step - loss: 1.1557\n",
            "Epoch 7/10\n",
            "4/4 [==============================] - 0s 18ms/step - loss: 1.1312\n",
            "Epoch 8/10\n",
            "4/4 [==============================] - 0s 17ms/step - loss: 1.1168\n",
            "Epoch 9/10\n",
            "4/4 [==============================] - 0s 14ms/step - loss: 1.1089\n",
            "Epoch 10/10\n",
            "4/4 [==============================] - 0s 8ms/step - loss: 1.1003\n",
            "1/1 [==============================] - 1s 589ms/step - loss: 2.0144\n"
          ]
        },
        {
          "output_type": "execute_result",
          "data": {
            "text/plain": [
              "2.0143589973449707"
            ]
          },
          "metadata": {},
          "execution_count": 1
        }
      ],
      "source": [
        "import tensorflow as tf\n",
        "from tensorflow import keras\n",
        "input_shape = (10, 1)\n",
        "model = keras.Sequential([\n",
        "    keras.layers.SimpleRNN(32, input_shape=input_shape),\n",
        "    keras.layers.Dense(1)\n",
        "])\n",
        "model.compile(optimizer='adam', loss='mse')\n",
        "import numpy as np\n",
        "\n",
        "X_train = np.random.randn(100, 10, 1)\n",
        "y_train = np.random.randn(100, 1)\n",
        "\n",
        "model.fit(X_train, y_train, epochs=10, batch_size=32)\n",
        "X_test = np.random.randn(10, 10, 1)\n",
        "y_test = np.random.randn(10, 1)\n",
        "\n",
        "model.evaluate(X_test, y_test)"
      ]
    }
  ]
}