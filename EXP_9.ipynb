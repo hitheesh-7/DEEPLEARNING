{
  "nbformat": 4,
  "nbformat_minor": 0,
  "metadata": {
    "colab": {
      "provenance": [],
      "authorship_tag": "ABX9TyOnVse+eA9XQbgjbW+LH6UR",
      "include_colab_link": true
    },
    "kernelspec": {
      "name": "python3",
      "display_name": "Python 3"
    },
    "language_info": {
      "name": "python"
    }
  },
  "cells": [
    {
      "cell_type": "markdown",
      "metadata": {
        "id": "view-in-github",
        "colab_type": "text"
      },
      "source": [
        "<a href=\"https://colab.research.google.com/github/hitheesh-7/DEEPLEARNING/blob/main/EXP_9.ipynb\" target=\"_parent\"><img src=\"https://colab.research.google.com/assets/colab-badge.svg\" alt=\"Open In Colab\"/></a>"
      ]
    },
    {
      "cell_type": "code",
      "execution_count": 1,
      "metadata": {
        "colab": {
          "base_uri": "https://localhost:8080/"
        },
        "id": "vc3sIZekoC7I",
        "outputId": "86fb07c6-77af-4706-fbd0-c10e86591407"
      },
      "outputs": [
        {
          "output_type": "stream",
          "name": "stdout",
          "text": [
            "Downloading data from https://storage.googleapis.com/tensorflow/tf-keras-datasets/mnist.npz\n",
            "11490434/11490434 [==============================] - 0s 0us/step\n",
            "Epoch 1/10\n",
            "300/300 - 48s - loss: 0.3720 - accuracy: 0.8839 - val_loss: 0.0833 - val_accuracy: 0.9713 - 48s/epoch - 160ms/step\n",
            "Epoch 2/10\n",
            "300/300 - 40s - loss: 0.1134 - accuracy: 0.9668 - val_loss: 0.0510 - val_accuracy: 0.9837 - 40s/epoch - 132ms/step\n",
            "Epoch 3/10\n",
            "300/300 - 39s - loss: 0.0840 - accuracy: 0.9754 - val_loss: 0.0357 - val_accuracy: 0.9881 - 39s/epoch - 131ms/step\n",
            "Epoch 4/10\n",
            "300/300 - 39s - loss: 0.0690 - accuracy: 0.9798 - val_loss: 0.0340 - val_accuracy: 0.9883 - 39s/epoch - 131ms/step\n",
            "Epoch 5/10\n",
            "300/300 - 38s - loss: 0.0587 - accuracy: 0.9823 - val_loss: 0.0336 - val_accuracy: 0.9899 - 38s/epoch - 128ms/step\n",
            "Epoch 6/10\n",
            "300/300 - 38s - loss: 0.0507 - accuracy: 0.9845 - val_loss: 0.0305 - val_accuracy: 0.9894 - 38s/epoch - 126ms/step\n",
            "Epoch 7/10\n",
            "300/300 - 38s - loss: 0.0454 - accuracy: 0.9858 - val_loss: 0.0272 - val_accuracy: 0.9912 - 38s/epoch - 128ms/step\n",
            "Epoch 8/10\n",
            "300/300 - 39s - loss: 0.0420 - accuracy: 0.9872 - val_loss: 0.0274 - val_accuracy: 0.9902 - 39s/epoch - 131ms/step\n",
            "Epoch 9/10\n",
            "300/300 - 39s - loss: 0.0376 - accuracy: 0.9884 - val_loss: 0.0257 - val_accuracy: 0.9920 - 39s/epoch - 131ms/step\n",
            "Epoch 10/10\n",
            "300/300 - 39s - loss: 0.0333 - accuracy: 0.9895 - val_loss: 0.0239 - val_accuracy: 0.9920 - 39s/epoch - 131ms/step\n",
            "Test accuracy: 99.20%\n"
          ]
        }
      ],
      "source": [
        "import tensorflow as tf\n",
        "from tensorflow.keras.datasets import mnist\n",
        "from tensorflow.keras.models import Sequential\n",
        "from tensorflow.keras.layers import Conv2D, MaxPooling2D, Flatten, Dense, Dropout\n",
        "from tensorflow.keras.utils import to_categorical\n",
        "# Load and preprocess the dataset\n",
        "(x_train, y_train), (x_test, y_test) = mnist.load_data()\n",
        "x_train = x_train.reshape(x_train.shape[0], 28, 28, 1).astype('float32') / 255\n",
        "x_test = x_test.reshape(x_test.shape[0], 28, 28, 1).astype('float32') / 255\n",
        "y_train = to_categorical(y_train, 10)\n",
        "y_test = to_categorical(y_test, 10)\n",
        "# Build the CNN model\n",
        "model = Sequential()\n",
        "model.add(Conv2D(32, kernel_size=(3, 3), activation='relu',\n",
        "input_shape=(28, 28, 1)))\n",
        "model.add(MaxPooling2D(pool_size=(2, 2)))\n",
        "model.add(Conv2D(64, kernel_size=(3, 3), activation='relu'))\n",
        "model.add(MaxPooling2D(pool_size=(2, 2)))\n",
        "model.add(Flatten())\n",
        "model.add(Dense(128, activation='relu'))\n",
        "model.add(Dropout(0.5))\n",
        "model.add(Dense(10, activation='softmax'))\n",
        "# Compile the model\n",
        "model.compile(loss='categorical_crossentropy', optimizer='adam',\n",
        "metrics=['accuracy'])\n",
        "# Train the model\n",
        "model.fit(x_train, y_train, validation_data=(x_test, y_test), epochs=10,\n",
        "batch_size=200, verbose=2)\n",
        "# Evaluate the model\n",
        "test_loss, test_acc = model.evaluate(x_test, y_test, verbose=0)\n",
        "print(f'Test accuracy: {test_acc*100:.2f}%')"
      ]
    }
  ]
}